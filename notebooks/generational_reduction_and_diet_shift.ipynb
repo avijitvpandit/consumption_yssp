{
  "cells": [
    {
      "cell_type": "markdown",
      "metadata": {},
      "source": "# Generational Reduction and Diet Shift"
    },
    {
      "cell_type": "markdown",
      "metadata": {},
      "source": "This notebook quantifies generational changes in European diets using the cleaned GDD panel `data/processed/gdd_cleaned_panel.csv`."
    },
    {
      "cell_type": "code",
      "metadata": {},
      "execution_count": null,
      "outputs": [],
      "source": "import pandas as pd\nimport numpy as np\nfrom pathlib import Path\nimport matplotlib.pyplot as plt"
    },
    {
      "cell_type": "code",
      "metadata": {},
      "execution_count": null,
      "outputs": [],
      "source": "DATA_FILE = Path('data/processed/gdd_cleaned_panel.csv')"
    },
    {
      "cell_type": "code",
      "metadata": {},
      "execution_count": null,
      "outputs": [],
      "source": "df = pd.read_csv(DATA_FILE)\ncohort = df['year'] - ((df['age']//5)*5 + 2.5)\ndf['cohort'] = cohort"
    },
    {
      "cell_type": "code",
      "metadata": {},
      "execution_count": null,
      "outputs": [],
      "source": "def map_generation(cohort):\n    if cohort < 1965:\n        return 'Boomers'\n    elif 1965 <= cohort <= 1980:\n        return 'Gen X'\n    elif 1981 <= cohort <= 1996:\n        return 'Millennials'\n    else:\n        return 'Gen Z'\n\ndf['generation'] = df['cohort'].apply(map_generation)"
    },
    {
      "cell_type": "code",
      "metadata": {},
      "execution_count": null,
      "outputs": [],
      "source": "red_meat = df[df['food']=='Red meat'].copy()\nsummary = red_meat.groupby(['generation','age'])['median'].mean().reset_index()\nage20 = summary[summary['age']==20].set_index('generation')['median']\nage80 = summary[summary['age']==80].set_index('generation')['median']\nreduction = ((age20 - age80)/age20*100).dropna()\nprint(reduction)"
    },
    {
      "cell_type": "code",
      "metadata": {},
      "execution_count": null,
      "outputs": [],
      "source": "fig, ax = plt.subplots()\nfor gen, group in summary.groupby('generation'):\n    ax.plot(group['age'], group['median'], label=gen)\nfor gen, pct in reduction.items():\n    ax.annotate(f'{pct:.1f}% drop', xy=(80, age80[gen]), textcoords='offset points', xytext=(-30,0))\nax.set_xlabel('Age')\nax.set_ylabel('Red meat intake (g/day)')\nax.legend()\nfig.tight_layout()\nPath('figures').mkdir(exist_ok=True)\nfig.savefig('figures/meat_reduction_by_generation.png', dpi=300)\nplt.close(fig)"
    },
    {
      "cell_type": "code",
      "metadata": {},
      "execution_count": null,
      "outputs": [],
      "source": "comp = df.groupby(['age','food'])['median'].mean().reset_index()\ntotal = comp.groupby('age')['median'].transform('sum')\ncomp['share'] = comp['median']/total*100\nfoods = comp['food'].unique()\nfig, ax = plt.subplots(figsize=(8,6))\nbottom = np.zeros(comp['age'].nunique())\nages = sorted(comp['age'].unique())\nfor food in foods:\n    vals = comp[comp['food']==food].set_index('age').reindex(ages)['share'].fillna(0)\n    ax.bar(ages, vals, bottom=bottom, label=food)\n    bottom += vals.values\nax.set_xlabel('Age')\nax.set_ylabel('Diet share (%)')\nax.legend(bbox_to_anchor=(1.05,1))\nfig.tight_layout()\nfig.savefig('figures/agegroup_diet_composition_stacked.png', dpi=300)\nplt.close(fig)"
    }
  ],
  "metadata": {
    "kernelspec": {
      "display_name": "Python 3",
      "language": "python",
      "name": "python3"
    },
    "language_info": {
      "name": "python"
    }
  },
  "nbformat": 4,
  "nbformat_minor": 5
}
