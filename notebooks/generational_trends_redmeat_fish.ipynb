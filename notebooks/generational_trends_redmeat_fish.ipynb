{
  "cells": [
    {
      "cell_type": "markdown",
      "metadata": {},
      "source": "# Average Red Meat vs Fish Intake by Birth Cohort (EU27)"
    },
    {
      "cell_type": "markdown",
      "metadata": {},
      "source": "This notebook analyzes generational trends in European dietary intake focusing on red meat and fish. Data source: `data/processed/gdd_cleaned_panel.csv`."
    },
    {
      "cell_type": "code",
      "metadata": {},
      "execution_count": null,
      "outputs": [],
      "source": "import pandas as pd\nimport numpy as np\nimport matplotlib.pyplot as plt\nfrom pathlib import Path\n"
    },
    {
      "cell_type": "code",
      "metadata": {},
      "execution_count": null,
      "outputs": [],
      "source": "DATA_FILE = Path('data/processed/gdd_cleaned_panel.csv')\nFIG_PATH = Path('figures/eu_avg_redmeat_vs_fish.png')\nEU27_ISO3 = [\n    'AUT','BEL','BGR','HRV','CYP','CZE','DNK','EST','FIN','FRA','DEU','GRC','HUN','IRL','ITA',\n    'LVA','LTU','LUX','MLT','NLD','POL','PRT','ROU','SVK','SVN','ESP','SWE'\n]\n"
    },
    {
      "cell_type": "code",
      "metadata": {},
      "execution_count": null,
      "outputs": [],
      "source": "def midpoint(age):\n    return (np.floor(age / 5) * 5) + 2.5\n\ndef derive_cohort(df):\n    df = df.copy()\n    df['age_mid'] = df['age'].apply(midpoint)\n    df['cohort'] = df['year'] - df['age_mid']\n    return df\n"
    },
    {
      "cell_type": "code",
      "metadata": {},
      "execution_count": null,
      "outputs": [],
      "source": "df = pd.read_csv(DATA_FILE)\n"
    },
    {
      "cell_type": "code",
      "metadata": {},
      "execution_count": null,
      "outputs": [],
      "source": "df = derive_cohort(df)\nmask = df['food'].isin(['Red meat','Fish']) & df['iso3'].isin(EU27_ISO3)\ndf_eu = df[mask]\n"
    },
    {
      "cell_type": "code",
      "metadata": {},
      "execution_count": null,
      "outputs": [],
      "source": "cohort_avg = (\n    df_eu.groupby(['cohort','food'])['median']\n    .mean()\n    .reset_index()\n)\ncohort_avg.head()\n"
    },
    {
      "cell_type": "code",
      "metadata": {},
      "execution_count": null,
      "outputs": [],
      "source": "df_eu['generation'] = pd.cut(\n    df_eu['cohort'],\n    bins=[1965, 1980, 1996],\n    labels=['Gen X','Millennials'],\n    right=True,\n    include_lowest=True\n)\nsummary = (\n    df_eu.dropna(subset=['generation'])\n        .groupby(['generation','food','age_mid'])['median']\n        .mean()\n        .reset_index()\n)\nsummary.head()\n"
    },
    {
      "cell_type": "code",
      "metadata": {},
      "execution_count": null,
      "outputs": [],
      "source": "fig, ax = plt.subplots(figsize=(8,6))\nfor food, color in [('Red meat','red'),('Fish','green')]:\n    for gen, style in [('Millennials','-'),('Gen X','--')]:\n        data = summary[(summary['food']==food) & (summary['generation']==gen)]\n        data_sorted = data.sort_values('age_mid')\n        ax.plot(data_sorted['age_mid'], data_sorted['median'],\n                label=f\"{food} ({gen})\",\n                color=color,\n                linestyle=style)\nax.set_xlabel('Age (midpoint)')\nax.set_ylabel('Daily Energy Intake (kcal/day)')\nax.set_title('Observed Generational Trend in Red Meat vs Fish Intake (EU27)')\nax.legend()\nfig.tight_layout()\nFIG_PATH.parent.mkdir(parents=True, exist_ok=True)\nfig.savefig(FIG_PATH, dpi=300)\nplt.close(fig)\n"
    }
  ],
  "metadata": {
    "kernelspec": {
      "display_name": "Python 3",
      "language": "python",
      "name": "python3"
    },
    "language_info": {
      "name": "python",
      "pygments_lexer": "ipython3"
    }
  },
  "nbformat": 4,
  "nbformat_minor": 5
}
